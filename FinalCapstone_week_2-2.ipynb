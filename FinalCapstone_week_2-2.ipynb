{
 "cells": [
  {
   "cell_type": "markdown",
   "id": "1376c1de-0a19-4c22-90f7-5d1616764c7d",
   "metadata": {},
   "source": [
    "# Valencia data by districts to begin a business\n"
   ]
  },
  {
   "cell_type": "markdown",
   "id": "1093e079-f80e-40b5-92f5-6ba14ab5b5df",
   "metadata": {},
   "source": [
    "July 20, 2021 \\\n",
    "By Luis Enrique Palma \\\n",
    "https://www.linkedin.com/in/luisenriquepalma"
   ]
  },
  {
   "cell_type": "markdown",
   "id": "541ad7bc-28da-44eb-90fd-8bb0b3aff033",
   "metadata": {},
   "source": [
    "## 1. Introducctory Section\n",
    "\n",
    "En este laboratorio usted aprenderá detalladamente a realizar llamadas a la API de FourSquare con distintos propositos. Aprenderá a construir una URL para enviar peticiones a la API para buscar lugares específicos, explorar un sitio en particular, un usuario de FourSquare o alguna referencia geografica, además, podrá obtener los lugares de modam alrededor de alguna locación. También aprederá a usar la librería de visualización Folium para ver los resultados.\n",
    "Valencia is the third largest city in Spain, it is the capital of the province of Valencia which is located in the Valencian Community, this report will show relevant demographic data, analysis of interest and an ideal tool that will serve as support for those interested in starting a business in the city.\n",
    "\n",
    "Valencia is located in the east of Spain, facing the Mediterranean Sea, it is crossed by the Turia river, the greatest contribution to its economy is by tourism and services, on a smaller scale there are industrial, construction and agriculture. Valencia capital is made up of 19 districts, which will be presented in this report according to the average characteristics of its habitants to have an adequate idea of what type of business will be more worth starting in each of the districts. "
   ]
  },
  {
   "cell_type": "code",
   "execution_count": 1,
   "id": "e674c24e-2a57-4a44-9f27-49a4ff469ad9",
   "metadata": {},
   "outputs": [
    {
     "name": "stdout",
     "output_type": "stream",
     "text": [
      "Collecting package metadata (current_repodata.json): done\n",
      "Solving environment: done\n",
      "\n",
      "# All requested packages already installed.\n",
      "\n",
      "Libraries imported.\n"
     ]
    }
   ],
   "source": [
    "import numpy as np # librería para manejar datos vectorizados\n",
    "\n",
    "import pandas as pd # librería para análisis de datos\n",
    "pd.set_option('display.max_columns', None)\n",
    "pd.set_option('display.max_rows', None)\n",
    "\n",
    "import json # librería para manejar archivos JSON \n",
    "\n",
    "!conda install -c conda-forge geopy --yes # retirar el comentario de esta línea si no ha completado el laboratorio de la API de FourSquare \n",
    "from geopy.geocoders import Nominatim # convertir una dirección en valores de latitud y longitud\n",
    "\n",
    "import requests # librería para manejar solicitudes\n",
    "from pandas.io.json import json_normalize # librería para convertir un archivo json en un dataframe pandas\n",
    "\n",
    "# Matplotlib y módulos asociados para graficar\n",
    "import matplotlib.cm as cm\n",
    "import matplotlib.colors as colors\n",
    "\n",
    "# importar k-means desde la fase de agrupación\n",
    "from sklearn.cluster import KMeans\n",
    "\n",
    "#!conda install -c conda-forge folium=0.5.0 --yes # retirar el comentario de esta línea si no ha completado el laboratorio de la API de FourSquare\n",
    "import folium # librería para graficar mapas \n",
    "\n",
    "print('Libraries imported.')"
   ]
  },
  {
   "cell_type": "code",
   "execution_count": 2,
   "id": "52d05b31-de0e-4b98-b9a3-429189ddd72a",
   "metadata": {},
   "outputs": [
    {
     "name": "stdout",
     "output_type": "stream",
     "text": [
      "Requirement already satisfied: geopandas in /home/jupyterlab/conda/envs/python/lib/python3.6/site-packages (0.9.0)\n",
      "Requirement already satisfied: pandas>=0.24.0 in /home/jupyterlab/conda/envs/python/lib/python3.6/site-packages (from geopandas) (1.1.5)\n",
      "Requirement already satisfied: pyproj>=2.2.0 in /home/jupyterlab/conda/envs/python/lib/python3.6/site-packages (from geopandas) (3.0.1)\n",
      "Requirement already satisfied: shapely>=1.6 in /home/jupyterlab/conda/envs/python/lib/python3.6/site-packages (from geopandas) (1.7.1)\n",
      "Requirement already satisfied: fiona>=1.8 in /home/jupyterlab/conda/envs/python/lib/python3.6/site-packages (from geopandas) (1.8.20)\n",
      "Requirement already satisfied: python-dateutil>=2.7.3 in /home/jupyterlab/conda/envs/python/lib/python3.6/site-packages (from pandas>=0.24.0->geopandas) (2.8.1)\n",
      "Requirement already satisfied: pytz>=2017.2 in /home/jupyterlab/conda/envs/python/lib/python3.6/site-packages (from pandas>=0.24.0->geopandas) (2021.1)\n",
      "Requirement already satisfied: numpy>=1.15.4 in /home/jupyterlab/conda/envs/python/lib/python3.6/site-packages (from pandas>=0.24.0->geopandas) (1.19.5)\n",
      "Requirement already satisfied: certifi in /home/jupyterlab/conda/envs/python/lib/python3.6/site-packages (from pyproj>=2.2.0->geopandas) (2021.5.30)\n",
      "Requirement already satisfied: setuptools in /home/jupyterlab/conda/envs/python/lib/python3.6/site-packages (from fiona>=1.8->geopandas) (49.6.0.post20210108)\n",
      "Requirement already satisfied: six>=1.7 in /home/jupyterlab/conda/envs/python/lib/python3.6/site-packages (from fiona>=1.8->geopandas) (1.15.0)\n",
      "Requirement already satisfied: cligj>=0.5 in /home/jupyterlab/conda/envs/python/lib/python3.6/site-packages (from fiona>=1.8->geopandas) (0.7.2)\n",
      "Requirement already satisfied: click-plugins>=1.0 in /home/jupyterlab/conda/envs/python/lib/python3.6/site-packages (from fiona>=1.8->geopandas) (1.1.1)\n",
      "Requirement already satisfied: munch in /home/jupyterlab/conda/envs/python/lib/python3.6/site-packages (from fiona>=1.8->geopandas) (2.5.0)\n",
      "Requirement already satisfied: click>=4.0 in /home/jupyterlab/conda/envs/python/lib/python3.6/site-packages (from fiona>=1.8->geopandas) (8.0.1)\n",
      "Requirement already satisfied: attrs>=17 in /home/jupyterlab/conda/envs/python/lib/python3.6/site-packages (from fiona>=1.8->geopandas) (21.2.0)\n",
      "Requirement already satisfied: importlib-metadata; python_version < \"3.8\" in /home/jupyterlab/conda/envs/python/lib/python3.6/site-packages (from click>=4.0->fiona>=1.8->geopandas) (4.6.1)\n",
      "Requirement already satisfied: zipp>=0.5 in /home/jupyterlab/conda/envs/python/lib/python3.6/site-packages (from importlib-metadata; python_version < \"3.8\"->click>=4.0->fiona>=1.8->geopandas) (3.5.0)\n",
      "Requirement already satisfied: typing-extensions>=3.6.4; python_version < \"3.8\" in /home/jupyterlab/conda/envs/python/lib/python3.6/site-packages (from importlib-metadata; python_version < \"3.8\"->click>=4.0->fiona>=1.8->geopandas) (3.10.0.0)\n",
      "Requirement already satisfied: geopy in /home/jupyterlab/conda/envs/python/lib/python3.6/site-packages (2.2.0)\n",
      "Requirement already satisfied: geographiclib<2,>=1.49 in /home/jupyterlab/conda/envs/python/lib/python3.6/site-packages (from geopy) (1.52)\n",
      "Requirement already satisfied: geocoder in /home/jupyterlab/conda/envs/python/lib/python3.6/site-packages (1.38.1)\n",
      "Requirement already satisfied: click in /home/jupyterlab/conda/envs/python/lib/python3.6/site-packages (from geocoder) (8.0.1)\n",
      "Requirement already satisfied: requests in /home/jupyterlab/conda/envs/python/lib/python3.6/site-packages (from geocoder) (2.25.1)\n",
      "Requirement already satisfied: ratelim in /home/jupyterlab/conda/envs/python/lib/python3.6/site-packages (from geocoder) (0.1.6)\n",
      "Requirement already satisfied: future in /home/jupyterlab/conda/envs/python/lib/python3.6/site-packages (from geocoder) (0.18.2)\n",
      "Requirement already satisfied: six in /home/jupyterlab/conda/envs/python/lib/python3.6/site-packages (from geocoder) (1.15.0)\n",
      "Requirement already satisfied: importlib-metadata; python_version < \"3.8\" in /home/jupyterlab/conda/envs/python/lib/python3.6/site-packages (from click->geocoder) (4.6.1)\n",
      "Requirement already satisfied: idna<3,>=2.5 in /home/jupyterlab/conda/envs/python/lib/python3.6/site-packages (from requests->geocoder) (2.10)\n",
      "Requirement already satisfied: urllib3<1.27,>=1.21.1 in /home/jupyterlab/conda/envs/python/lib/python3.6/site-packages (from requests->geocoder) (1.26.6)\n",
      "Requirement already satisfied: certifi>=2017.4.17 in /home/jupyterlab/conda/envs/python/lib/python3.6/site-packages (from requests->geocoder) (2021.5.30)\n",
      "Requirement already satisfied: chardet<5,>=3.0.2 in /home/jupyterlab/conda/envs/python/lib/python3.6/site-packages (from requests->geocoder) (4.0.0)\n",
      "Requirement already satisfied: decorator in /home/jupyterlab/conda/envs/python/lib/python3.6/site-packages (from ratelim->geocoder) (4.4.2)\n",
      "Requirement already satisfied: zipp>=0.5 in /home/jupyterlab/conda/envs/python/lib/python3.6/site-packages (from importlib-metadata; python_version < \"3.8\"->click->geocoder) (3.5.0)\n",
      "Requirement already satisfied: typing-extensions>=3.6.4; python_version < \"3.8\" in /home/jupyterlab/conda/envs/python/lib/python3.6/site-packages (from importlib-metadata; python_version < \"3.8\"->click->geocoder) (3.10.0.0)\n",
      "Requirement already satisfied: folium in /home/jupyterlab/conda/envs/python/lib/python3.6/site-packages (0.5.0)\n",
      "Requirement already satisfied: requests in /home/jupyterlab/conda/envs/python/lib/python3.6/site-packages (from folium) (2.25.1)\n",
      "Requirement already satisfied: six in /home/jupyterlab/conda/envs/python/lib/python3.6/site-packages (from folium) (1.15.0)\n",
      "Requirement already satisfied: branca in /home/jupyterlab/conda/envs/python/lib/python3.6/site-packages (from folium) (0.4.2)\n",
      "Requirement already satisfied: jinja2 in /home/jupyterlab/conda/envs/python/lib/python3.6/site-packages (from folium) (3.0.1)\n",
      "Requirement already satisfied: idna<3,>=2.5 in /home/jupyterlab/conda/envs/python/lib/python3.6/site-packages (from requests->folium) (2.10)\n",
      "Requirement already satisfied: urllib3<1.27,>=1.21.1 in /home/jupyterlab/conda/envs/python/lib/python3.6/site-packages (from requests->folium) (1.26.6)\n",
      "Requirement already satisfied: certifi>=2017.4.17 in /home/jupyterlab/conda/envs/python/lib/python3.6/site-packages (from requests->folium) (2021.5.30)\n",
      "Requirement already satisfied: chardet<5,>=3.0.2 in /home/jupyterlab/conda/envs/python/lib/python3.6/site-packages (from requests->folium) (4.0.0)\n",
      "Requirement already satisfied: MarkupSafe>=2.0 in /home/jupyterlab/conda/envs/python/lib/python3.6/site-packages (from jinja2->folium) (2.0.1)\n"
     ]
    }
   ],
   "source": [
    "!pip install geopandas\n",
    "!pip install geopy\n",
    "!pip install geocoder\n",
    "!pip install folium"
   ]
  },
  {
   "cell_type": "code",
   "execution_count": 3,
   "id": "aed381d2-29c4-41e7-8615-8e6f791b5a1f",
   "metadata": {},
   "outputs": [],
   "source": [
    "import requests\n",
    "import json \n",
    "import geocoder\n",
    "from geopandas.tools import geocode"
   ]
  },
  {
   "cell_type": "code",
   "execution_count": 4,
   "id": "16a497b6-df04-4be7-90f3-0b4effb12599",
   "metadata": {},
   "outputs": [
    {
     "data": {
      "text/html": [
       "<div>\n",
       "<style scoped>\n",
       "    .dataframe tbody tr th:only-of-type {\n",
       "        vertical-align: middle;\n",
       "    }\n",
       "\n",
       "    .dataframe tbody tr th {\n",
       "        vertical-align: top;\n",
       "    }\n",
       "\n",
       "    .dataframe thead th {\n",
       "        text-align: right;\n",
       "    }\n",
       "</style>\n",
       "<table border=\"1\" class=\"dataframe\">\n",
       "  <thead>\n",
       "    <tr style=\"text-align: right;\">\n",
       "      <th></th>\n",
       "      <th>District</th>\n",
       "    </tr>\n",
       "  </thead>\n",
       "  <tbody>\n",
       "    <tr>\n",
       "      <th>14</th>\n",
       "      <td>Rascanya</td>\n",
       "    </tr>\n",
       "    <tr>\n",
       "      <th>15</th>\n",
       "      <td>Benicalap</td>\n",
       "    </tr>\n",
       "    <tr>\n",
       "      <th>16</th>\n",
       "      <td>Pobles del Nord</td>\n",
       "    </tr>\n",
       "    <tr>\n",
       "      <th>17</th>\n",
       "      <td>Pobles de l’Oest</td>\n",
       "    </tr>\n",
       "    <tr>\n",
       "      <th>18</th>\n",
       "      <td>Pobles del Sud</td>\n",
       "    </tr>\n",
       "  </tbody>\n",
       "</table>\n",
       "</div>"
      ],
      "text/plain": [
       "            District\n",
       "14          Rascanya\n",
       "15         Benicalap\n",
       "16   Pobles del Nord\n",
       "17  Pobles de l’Oest\n",
       "18    Pobles del Sud"
      ]
     },
     "execution_count": 4,
     "metadata": {},
     "output_type": "execute_result"
    }
   ],
   "source": [
    "DF = pd.read_csv('DistValencia.csv', header=0)\n",
    "DF.tail() # Data taken from https://www.valencia.es/es/cas/estadistica/mapa-barrios "
   ]
  },
  {
   "cell_type": "code",
   "execution_count": 5,
   "id": "17556459-b14c-41c0-829d-a1364d0e3164",
   "metadata": {},
   "outputs": [],
   "source": [
    "districts=DF['District']\n",
    "districts=districts+', Valencia, Spain'"
   ]
  },
  {
   "cell_type": "code",
   "execution_count": 6,
   "id": "bb798706-f763-42a9-a5a2-0e8bbb1b3157",
   "metadata": {},
   "outputs": [
    {
     "data": {
      "text/plain": [
       "0         Ciutat Vella, Valencia, Spain\n",
       "1           l’Eixample, Valencia, Spain\n",
       "2            Extramurs, Valencia, Spain\n",
       "3             Campanar, Valencia, Spain\n",
       "4            la Saïdia, Valencia, Spain\n",
       "5      el Pla del Real, Valencia, Spain\n",
       "6          l’Olivereta, Valencia, Spain\n",
       "7              Patraix, Valencia, Spain\n",
       "8                Jesús, Valencia, Spain\n",
       "9      Quatre Carreres, Valencia, Spain\n",
       "10    Poblats Marítims, Valencia, Spain\n",
       "11      Camins al Grau, Valencia, Spain\n",
       "12             Algirós, Valencia, Spain\n",
       "13          Benimaclet, Valencia, Spain\n",
       "14            Rascanya, Valencia, Spain\n",
       "15           Benicalap, Valencia, Spain\n",
       "16     Pobles del Nord, Valencia, Spain\n",
       "17    Pobles de l’Oest, Valencia, Spain\n",
       "18      Pobles del Sud, Valencia, Spain\n",
       "Name: District, dtype: object"
      ]
     },
     "execution_count": 6,
     "metadata": {},
     "output_type": "execute_result"
    }
   ],
   "source": [
    "districts"
   ]
  },
  {
   "cell_type": "code",
   "execution_count": null,
   "id": "1a55da3f-aaad-4582-85d2-e061f54866b5",
   "metadata": {},
   "outputs": [],
   "source": [
    "LLn=[]\n",
    "for i in districts:\n",
    "    lat_long_many=geocoder.osm(i)\n",
    "    LLn.append(lat_long_many.osm)"
   ]
  },
  {
   "cell_type": "code",
   "execution_count": null,
   "id": "e359b81f-a898-477d-9ba6-5abdb835c675",
   "metadata": {
    "tags": []
   },
   "outputs": [],
   "source": [
    "LLn[0]"
   ]
  },
  {
   "cell_type": "code",
   "execution_count": null,
   "id": "025e1fda-eaae-48e9-98b8-d07275afdade",
   "metadata": {},
   "outputs": [],
   "source": [
    "LLn[0]['y']"
   ]
  },
  {
   "cell_type": "code",
   "execution_count": null,
   "id": "45e9dc3a-2c00-4527-8edf-789970c20c0c",
   "metadata": {},
   "outputs": [],
   "source": [
    "# definir las columnas del datagrama\n",
    "column_names = ['Latitude', 'Longitude'] \n",
    "\n",
    "# inicializar el dataframe\n",
    "distr = pd.DataFrame(columns=column_names)\n",
    "\n",
    "distr"
   ]
  },
  {
   "cell_type": "code",
   "execution_count": null,
   "id": "e6057449-97e4-4eae-a13a-e5525720c8ef",
   "metadata": {},
   "outputs": [],
   "source": [
    "column_names = ['Latitude', 'Longitude'] \n",
    "\n",
    "# inicializar el dataframe\n",
    "distr = pd.DataFrame(columns=column_names)\n",
    "\n",
    "for i in LLn:\n",
    "    \n",
    "    distr_lat = i['y']\n",
    "    distr_lon = i['x']\n",
    "    \n",
    "    distr = distr.append({'Latitude': distr_lat,\n",
    "                          'Longitude': distr_lon}, ignore_index=True)\n",
    "    \n",
    "distr"
   ]
  },
  {
   "cell_type": "code",
   "execution_count": null,
   "id": "956959d4-87b0-451f-ab02-959db647b231",
   "metadata": {},
   "outputs": [],
   "source": [
    "DF['Latitude']=distr['Latitude']"
   ]
  },
  {
   "cell_type": "code",
   "execution_count": null,
   "id": "b87e5948-544b-487e-b0d7-156483265a97",
   "metadata": {},
   "outputs": [],
   "source": [
    "DF['Longitude']=distr['Longitude']"
   ]
  },
  {
   "cell_type": "code",
   "execution_count": null,
   "id": "247eabc5-9b91-494e-b7fe-04ddeb6e9767",
   "metadata": {},
   "outputs": [],
   "source": [
    "DF.tail()"
   ]
  },
  {
   "cell_type": "code",
   "execution_count": null,
   "id": "6492324d-0796-4b61-ba3e-1d02968e07ff",
   "metadata": {},
   "outputs": [],
   "source": [
    "#El promedio de las coordenadas de Latitud y Longitud para poder centrar correctamente en el mapa\n",
    "avg_Latitude=sum(DF['Latitude'])/len(DF['Latitude'])\n",
    "print('Average Latitude is :', avg_Latitude)\n",
    "\n",
    "avg_Longitude=sum(DF['Longitude'])/len(DF['Longitude'])\n",
    "print('Average Longitude is: ', avg_Longitude)"
   ]
  },
  {
   "cell_type": "code",
   "execution_count": null,
   "id": "f7cdd09f-6d9c-4f84-9902-a4208be07651",
   "metadata": {},
   "outputs": [],
   "source": [
    "# crear un mapa de Toronto utilizando los valores de latitud y longitud promedios\n",
    "map_valencia = folium.Map(location=[avg_Latitude, avg_Longitude], zoom_start=11)\n",
    "\n",
    "# añadir marcadores al mapa\n",
    "for lat, lng, District, in zip(DF['Latitude'], DF['Longitude'], DF['District']):\n",
    "    label = '{}'.format(District)\n",
    "    label = folium.Popup(label, parse_html=True)\n",
    "    folium.CircleMarker(\n",
    "        [lat, lng],\n",
    "        radius=5,\n",
    "        popup=label,\n",
    "        color='blue',\n",
    "        fill=True,\n",
    "        fill_color='#3186cc',\n",
    "        fill_opacity=0.7,\n",
    "        parse_html=False).add_to(map_valencia)  \n",
    "    \n",
    "map_valencia"
   ]
  },
  {
   "cell_type": "markdown",
   "id": "39b8d334-35ff-44a5-a29a-a7e08ecd005d",
   "metadata": {},
   "source": [
    "## 2. Metodology Section\n",
    "\n",
    "The methodology is divided into two stages, the first consists of collecting relevant and current quantitative information with which to achieve greater precision in the estimates suggested or made with the help of the results. The second stage consists of data processing with the use of MS Excel, MS Word and Python with its different libraries to achieve the results.\n"
   ]
  },
  {
   "cell_type": "markdown",
   "id": "b6453820-5a5a-4d3e-8064-0e556f12461e",
   "metadata": {},
   "source": [
    "### 2.1. Firts Stage: Data Minning \n",
    "Demographic and descriptive information was collected of the year 2020 of the inhabitants of Valencia by their districts through the official page of the Valencia City Council, Gross average income of 2019, from the official page of the Institute of Statistics of Spain, coordinates of their districts in Google Maps, information of current most popular businesses on Foursquare and other qualitative information on Wikipedia (not being scientific).\n",
    "The Data Frame (DF) was built in MS Excel from the tables collected in the sources mentioned in the previous paragraph and the following table resulted:\n"
   ]
  },
  {
   "cell_type": "code",
   "execution_count": null,
   "id": "97463f99-2191-4b20-8320-11ef9a2021e1",
   "metadata": {},
   "outputs": [],
   "source": [
    "df_val=pd.read_csv('data_val.csv')\n",
    "df_val.head()"
   ]
  },
  {
   "cell_type": "markdown",
   "id": "39ab3869-375d-4d18-9b0b-e05c4eb434d3",
   "metadata": {},
   "source": [
    "## 2.2. Second Stage: Data Processing\n",
    "To process the data, the previous DF will be imported in Jupyter labs and with the use of Python language and its libraries such as pandas for Data frame manipulation ; the folium library for the creation of interactive, informative and choropletic maps; the json library for the extraction of coordinates through the Beautifulsoup library, geocoder, geopy and geopandas; the seaborn and matplotlib libraries for creating frequency and other statistical data graphs; the sklearn library for the K Nearest Neighbors implementation of the most popular sites in their districts collected by Foursquare developer account and other libraries will be included to process or complement the information.\n"
   ]
  },
  {
   "cell_type": "markdown",
   "id": "b4eb0139-43b8-44f6-bad4-7ec7458a391f",
   "metadata": {},
   "source": [
    "### 2.2.1 Analyzing the data\n",
    "First of all, the data was cleaned and the elements of number columns that was in string type were converted to float type, then the data was analyzed with info and describe methods to see a type and statistic summary respectively. See figure (1) and (2):\n"
   ]
  },
  {
   "cell_type": "code",
   "execution_count": null,
   "id": "516c745c-a783-4c38-9f30-dedfbd4a6c2d",
   "metadata": {},
   "outputs": [],
   "source": [
    "df_val.info()"
   ]
  },
  {
   "cell_type": "code",
   "execution_count": null,
   "id": "83019df3-a79b-4f0f-a502-3fb12e0b29c6",
   "metadata": {},
   "outputs": [],
   "source": [
    "df_val.describe()"
   ]
  },
  {
   "cell_type": "markdown",
   "id": "f73040d1-7ab3-44ba-9ed8-6f27a262c150",
   "metadata": {},
   "source": [
    "These three last tables are all the same, this is very important to have an idea of the behavior of the data recollected and how it describes the generality of the habitants of Valencia."
   ]
  },
  {
   "cell_type": "markdown",
   "id": "a180b320-f0f9-4923-ac65-5c8de6902863",
   "metadata": {},
   "source": [
    "### 2.2.2 Data visualization\n",
    "As we know the table data can be hard to understand, in this unit some plots will be shown to have a better familiarity of the data resulted from the Valencian Districts. \n",
    "The first plot is the population, there are to plots to know which district have more density and Population per area.\n"
   ]
  },
  {
   "cell_type": "code",
   "execution_count": null,
   "id": "4401c4bc-0028-49a2-aae4-3a9a4526cbcd",
   "metadata": {},
   "outputs": [],
   "source": [
    "from numpy import median\n",
    "import seaborn as sns\n",
    "\n"
   ]
  },
  {
   "cell_type": "code",
   "execution_count": null,
   "id": "8f6a8cf9-3201-4989-b3a2-729162a175a0",
   "metadata": {},
   "outputs": [],
   "source": [
    "by_population=df_val.sort_values('Population', ascending=False)\n",
    "\n",
    "g = sns.barplot(x='District', y='Population', data=by_population, color='brown')\n",
    "g.set_xticklabels(g.get_xticklabels(), rotation=90)\n",
    "sns.set(rc = {'figure.figsize':(10,6)})\n",
    "g.set_title('Population in Valencian Districs 2020')\n"
   ]
  },
  {
   "cell_type": "code",
   "execution_count": null,
   "id": "5096dbd1-0d87-4dcf-9a27-054394facfcb",
   "metadata": {},
   "outputs": [],
   "source": [
    "#Mapa Coropletico"
   ]
  },
  {
   "cell_type": "code",
   "execution_count": null,
   "id": "b8aee16c-1cd7-4327-af79-18a06e2bf491",
   "metadata": {},
   "outputs": [],
   "source": [
    "#Importar librerías\n",
    "import geopandas as gpd\n",
    "import pandas as pd\n",
    "import matplotlib.pyplot as plt\n",
    "import json\n",
    "\n",
    "%matplotlib inline"
   ]
  },
  {
   "cell_type": "code",
   "execution_count": null,
   "id": "fa135c13-23c5-4927-98fd-8bdb54475ebb",
   "metadata": {},
   "outputs": [],
   "source": [
    "#Importante convertir los distritos a mayuscula, asi estan en el archivo Json.\n",
    "df_val['DISTRICT']=df_val['District'].apply(lambda x: x.upper())"
   ]
  },
  {
   "cell_type": "code",
   "execution_count": null,
   "id": "9a5f2f62-7c78-455d-ad08-c219e3289f42",
   "metadata": {},
   "outputs": [],
   "source": [
    "df_val.head()"
   ]
  },
  {
   "cell_type": "code",
   "execution_count": null,
   "id": "5a75d6a2-01bb-4852-ba38-34cc60f9fbde",
   "metadata": {},
   "outputs": [],
   "source": [
    "!wget --quiet http://mapas.valencia.es/lanzadera/opendata/Distritos/JSON?srsName=EPSG%3A4326 -O valencia_geo.json\n",
    "    \n",
    "#http://mapas.valencia.es/lanzadera/opendata/Distritos/JSON?srsName=EPSG%3A4326    \n",
    "print('GeoJSON file downloaded!')\n",
    "\n",
    "valencia_geo = r'valencia_geo.json'\n",
    "\n",
    "#Valencia La, Lo\n",
    "latitude = avg_Latitude\n",
    "longitude = avg_Longitude\n"
   ]
  },
  {
   "cell_type": "code",
   "execution_count": null,
   "id": "df16d395-c006-4d87-96c3-e9bab0e53cf4",
   "metadata": {},
   "outputs": [],
   "source": [
    "\n",
    "# display Valencia\n",
    "valencia_map = folium.Map(location=[latitude, longitude], zoom_start=11)\n",
    "valencia_map.choropleth(\n",
    "    geo_data=valencia_geo,\n",
    "    data=df_val,\n",
    "    columns=['DISTRICT','Population'],\n",
    "    key_on='feature.properties.nombre', #Asi esta en json\n",
    "    fill_color='OrRd', \n",
    "    fill_opacity=0.7, \n",
    "    line_opacity=0.2,\n",
    "    legend_name='Population of Valencian Districts',\n",
    "    highlight=True\n",
    ")\n",
    "for lat, lng, District, in zip(DF['Latitude'], DF['Longitude'], DF['District']):\n",
    "    label = '{}'.format(District)\n",
    "    label = folium.Popup(label, parse_html=True)\n",
    "    folium.CircleMarker(\n",
    "        [lat, lng],\n",
    "        radius=3.5,\n",
    "        popup=label,\n",
    "        color='black',\n",
    "        fill=True,\n",
    "        fill_color='yellow',\n",
    "        fill_opacity=0.7,\n",
    "        parse_html=False).add_to(valencia_map)  \n",
    "    \n",
    "\n",
    "\n",
    "\n",
    "#display map\n",
    "valencia_map"
   ]
  },
  {
   "cell_type": "markdown",
   "id": "82b7e3e7-77b5-4458-8bc4-7ceea96f549f",
   "metadata": {},
   "source": [
    "Now we know that Districts named: Quatre Carreres, Camins al Grau, Patraix, Poblats Maritims and Rascanya are the most populated, there are some businesses that need lots of people like supermarkets, fast food restaurants, schools and other. Let’s look what districts have the most and less gross income. "
   ]
  },
  {
   "cell_type": "code",
   "execution_count": null,
   "id": "dac4b403-0336-41fa-916d-b8ffcb49af88",
   "metadata": {},
   "outputs": [],
   "source": [
    "by_income=df_val.sort_values('Average Gross income 2018', ascending=False)\n",
    "\n",
    "g = sns.barplot(x='District', y='Average Gross income 2018', data=by_income, color='brown')\n",
    "g.set_xticklabels(g.get_xticklabels(), rotation=90)\n",
    "sns.set(rc = {'figure.figsize':(10,6)})\n",
    "g.set_title('Average Gross Income (€) of habitants in Valencia by Districs 2018')"
   ]
  },
  {
   "cell_type": "code",
   "execution_count": null,
   "id": "39fad9f4-391b-415e-9649-034f2ee07456",
   "metadata": {},
   "outputs": [],
   "source": [
    "\n",
    "# display Valencia\n",
    "valencia_map_income = folium.Map(location=[latitude-0.02, longitude+0.1], zoom_start=11)\n",
    "valencia_map_income.choropleth(\n",
    "    geo_data=valencia_geo,\n",
    "    data=df_val,\n",
    "    columns=['DISTRICT','Average Gross income 2018'],\n",
    "    key_on='feature.properties.nombre',\n",
    "    fill_color='OrRd', \n",
    "    fill_opacity=0.7, \n",
    "    line_opacity=0.2,\n",
    "    legend_name='Average Gross Income of habitants of Valencian by Districts',\n",
    "    highlight=True\n",
    ")\n",
    "for lat, lng, District, in zip(DF['Latitude'], DF['Longitude'], DF['District']):\n",
    "    label = '{}'.format(District)\n",
    "    label = folium.Popup(label, parse_html=True)\n",
    "    folium.CircleMarker(\n",
    "        [lat, lng],\n",
    "        radius=3.5,\n",
    "        popup=label,\n",
    "        color='black',\n",
    "        fill=True,\n",
    "        fill_color='yellow',\n",
    "        fill_opacity=0.7,\n",
    "        parse_html=False).add_to(valencia_map_income)  \n",
    "    \n",
    "\n",
    "\n",
    "\n",
    "#display map\n",
    "valencia_map_income"
   ]
  },
  {
   "cell_type": "code",
   "execution_count": null,
   "id": "50bc67d8-d94b-4fa5-b3d5-af60f5f018e4",
   "metadata": {},
   "outputs": [],
   "source": [
    "\n",
    "# display Valencia\n",
    "valencia_map_foreign = folium.Map(location=[latitude-0.02, longitude+0.1], zoom_start=11)\n",
    "valencia_map_foreign.choropleth(\n",
    "    geo_data=valencia_geo,\n",
    "    data=df_val,\n",
    "    columns=['DISTRICT','Foreigns'],\n",
    "    key_on='feature.properties.nombre',\n",
    "    fill_color='OrRd', \n",
    "    fill_opacity=0.7, \n",
    "    line_opacity=0.2,\n",
    "    legend_name='Foreigns in Valencian Districts',\n",
    "    highlight=True\n",
    ")\n",
    "for lat, lng, District, in zip(DF['Latitude'], DF['Longitude'], DF['District']):\n",
    "    label = '{}'.format(District)\n",
    "    label = folium.Popup(label, parse_html=True)\n",
    "    folium.CircleMarker(\n",
    "        [lat, lng],\n",
    "        radius=3.5,\n",
    "        popup=label,\n",
    "        color='black',\n",
    "        fill=True,\n",
    "        fill_color='yellow',\n",
    "        fill_opacity=0.7,\n",
    "        parse_html=False).add_to(valencia_map_foreign)  \n",
    "    \n",
    "\n",
    "\n",
    "\n",
    "#display map\n",
    "valencia_map_foreign"
   ]
  },
  {
   "cell_type": "markdown",
   "id": "cdcc7e29-d649-4ad6-93ea-ac8e60652bea",
   "metadata": {},
   "source": [
    "Now we know that Districts named: el Pla del Real, l’Eixample and Ciutat Vella are the district which habitants have the greatest economic power in Valencia, as we can see they tend to be at the center of city. This can be relevant to begin deluxe business like gourmet restaurants, spa (it could be better near the beach), wine store and other. There could be some business related to vehicles, in the next plots, we can see the districts with the most vehicle fleet. It’s divided in vehicle and heavy vehicle fleet."
   ]
  },
  {
   "cell_type": "code",
   "execution_count": null,
   "id": "41b4a134-a45a-4ec2-ac87-cd74a9889613",
   "metadata": {},
   "outputs": [],
   "source": [
    "g3 = sns.lineplot(x='District', y='Tourism ', data=df_val, color='brown')\n",
    "g3 = sns.lineplot(x='District', y='Motorcycle', data=df_val, color='blue')\n",
    "g3 = sns.lineplot(x='District', y='Moped', data=df_val, color='green')\n",
    "\n",
    "g3.set_xticklabels(g.get_xticklabels(), rotation=90)\n",
    "sns.set(rc = {'figure.figsize':(10,6)})\n",
    "g3.set_title('Vehicle Fleet in Valencian Districts')\n",
    "g3.set(xlabel='Districts', ylabel='Vehicle Fleet')\n",
    "g3.legend(title='Vehicle type', loc='upper left', labels=['Tourism ', 'Motorcycle', 'Moped'])"
   ]
  },
  {
   "cell_type": "code",
   "execution_count": null,
   "id": "58e90f03-aed9-41dc-9215-d91520176fef",
   "metadata": {},
   "outputs": [],
   "source": [
    "g2 = sns.lineplot(x='District', y='Bus', data=df_val, color='brown')\n",
    "g2 = sns.lineplot(x='District', y='Tractor', data=df_val, color='blue')\n",
    "g2 = sns.lineplot(x='District', y='Truck', data=df_val, color='green')\n",
    "g2 = sns.lineplot(x='District', y='Trailer', data=df_val, color='orange')\n",
    "\n",
    "\n",
    "\n",
    "g2.set_xticklabels(g.get_xticklabels(), rotation=90)\n",
    "sns.set(rc = {'figure.figsize':(10,6)})\n",
    "g2.set_title('Heavy Vehicle Fleet in Valencian Districts')\n",
    "g2.set(xlabel='Districts', ylabel='Heavy Vehicle Fleet')\n",
    "g2.legend(title='Heavy Vehicle type', loc='upper left', labels=['Bus', 'Tractor', 'Truck', 'Trailer'])\n"
   ]
  },
  {
   "cell_type": "markdown",
   "id": "f152c21b-ee36-47a7-8608-289cfb0f6af9",
   "metadata": {},
   "source": [
    "There are a lot of plots that could be shown, but I think there are the most relevant to see, to know some of Valencian districts inhabitants. "
   ]
  },
  {
   "cell_type": "markdown",
   "id": "560c8e95-c737-4b3c-9faf-cc75b46b8b4b",
   "metadata": {},
   "source": [
    "### 2.2.3 Clustering the venues\n",
    "Foursquare have a venue database, which helps to find the most popular venues in a city, using the Foursquare API, I set a Radius of 750, and limit to 100 venues. We obtain a table with 597 rows like we see in Table 4\n"
   ]
  },
  {
   "cell_type": "code",
   "execution_count": null,
   "id": "21da8927-9e77-4df4-99b9-9dd3568f8e35",
   "metadata": {},
   "outputs": [],
   "source": [
    "address = 'Valencia, Spain'\n",
    "\n",
    "geolocator = Nominatim(user_agent=\"val_explorer\")\n",
    "location = geolocator.geocode(address)\n",
    "latitude = location.latitude\n",
    "longitude = location.longitude\n",
    "print('The geograpical coordinate of Manhattan are {}, {}.'.format(latitude, longitude))"
   ]
  },
  {
   "cell_type": "code",
   "execution_count": null,
   "id": "cc3bd93c-c532-42a7-9204-62ec9cce8ed5",
   "metadata": {},
   "outputs": [],
   "source": [
    "CLIENT_ID = 'N5WAI035VYJB4GO0WNCF2M2NUJX5TVOJMSV4UIFWP3DQB3IH' # su ID de Foursquare\n",
    "CLIENT_SECRET = 'JBTDUFWQ1J0P1WAK2KPUOQKB3HU1ESYMZEGRAIECZHJOKE0M' # Secreto de Foursquare\n",
    "VERSION = '20180605' # versión de la API de Foursquare\n",
    "LIMIT = 100 # Un valor límite para la API de Foursquare\n",
    "\n",
    "print('Your credentails:')\n",
    "print('CLIENT_ID: ' + CLIENT_ID)\n",
    "print('CLIENT_SECRET:' + CLIENT_SECRET)"
   ]
  },
  {
   "cell_type": "code",
   "execution_count": null,
   "id": "136ebdb5-9328-4724-9f84-65544a9ebd5a",
   "metadata": {},
   "outputs": [],
   "source": [
    "LIMIT = 100 # limit of number of venues returned by Foursquare API\n",
    "radius = 750 # define radius\n",
    "\n",
    "# create URL\n",
    "url = 'https://api.foursquare.com/v2/venues/explore?&client_id={}&client_secret={}&v={}&ll={},{}&radius={}&limit={}'.format(\n",
    "    CLIENT_ID, \n",
    "    CLIENT_SECRET, \n",
    "    VERSION, \n",
    "    avg_Latitude, \n",
    "    avg_Longitude, \n",
    "    radius, \n",
    "    LIMIT)\n",
    "url # display URL\n"
   ]
  },
  {
   "cell_type": "code",
   "execution_count": null,
   "id": "5528542a-0213-4bbe-9f7e-d4d7a7882a42",
   "metadata": {},
   "outputs": [],
   "source": [
    "results = requests.get(url).json()\n",
    "results\n"
   ]
  },
  {
   "cell_type": "code",
   "execution_count": null,
   "id": "5104fbd5-78d7-4ef6-849a-a9264cc79266",
   "metadata": {},
   "outputs": [],
   "source": [
    "# función para extraer la categoria del sitio\n",
    "def get_category_type(row):\n",
    "    try:\n",
    "        categories_list = row['categories']\n",
    "    except:\n",
    "        categories_list = row['venue.categories']\n",
    "        \n",
    "    if len(categories_list) == 0:\n",
    "        return None\n",
    "    else:\n",
    "        return categories_list[0]['name']"
   ]
  },
  {
   "cell_type": "code",
   "execution_count": null,
   "id": "8daa498d-1869-4a50-98b0-3574d689fa93",
   "metadata": {},
   "outputs": [],
   "source": [
    "venues = results['response']['groups'][0]['items']\n",
    "    \n",
    "nearby_venues = json_normalize(venues) # objeto JSON\n",
    "\n",
    "# filtrar columnas\n",
    "filtered_columns = ['venue.name', 'venue.categories', 'venue.location.lat', 'venue.location.lng']\n",
    "nearby_venues =nearby_venues.loc[:, filtered_columns]\n",
    "\n",
    "# filtrar la categoría para cada fila\n",
    "nearby_venues['venue.categories'] = nearby_venues.apply(get_category_type, axis=1)\n",
    "\n",
    "# limpiar columnas\n",
    "nearby_venues.columns = [col.split(\".\")[-1] for col in nearby_venues.columns]\n",
    "\n",
    "nearby_venues.head()"
   ]
  },
  {
   "cell_type": "code",
   "execution_count": null,
   "id": "dc3c5b95-8f9f-4d30-b0bb-3a25577712f2",
   "metadata": {},
   "outputs": [],
   "source": [
    "nearby_venues.head(15)\n"
   ]
  },
  {
   "cell_type": "code",
   "execution_count": null,
   "id": "1b116e15-5993-423f-822e-be5d9a9ae696",
   "metadata": {},
   "outputs": [],
   "source": [
    "print('{} venues were returned by Foursquare.'.format(nearby_venues.shape[0]))"
   ]
  },
  {
   "cell_type": "code",
   "execution_count": null,
   "id": "6c27ab9f-645d-4460-8ec5-f8dfdb13a564",
   "metadata": {},
   "outputs": [],
   "source": [
    "\"\"\"\n",
    "Hasta aqui se toma en cuenta el Centro promedio de la ciudad de Valencia\n",
    "\"\"\"\n"
   ]
  },
  {
   "cell_type": "code",
   "execution_count": null,
   "id": "19382d77-d3b4-4d83-a24d-16d86cb1f7e2",
   "metadata": {},
   "outputs": [],
   "source": [
    "def getNearbyVenues(names, latitudes, longitudes, radius=500):\n",
    "    \n",
    "    venues_list=[]\n",
    "    for name, lat, lng in zip(names, latitudes, longitudes):\n",
    "        print(name)\n",
    "            \n",
    "        # crear la URL de solicitud de API\n",
    "        url = 'https://api.foursquare.com/v2/venues/explore?&client_id={}&client_secret={}&v={}&ll={},{}&radius={}&limit={}'.format(\n",
    "            CLIENT_ID, \n",
    "            CLIENT_SECRET, \n",
    "            VERSION, \n",
    "            lat, \n",
    "            lng, \n",
    "            radius, \n",
    "            LIMIT)\n",
    "            \n",
    "        # solicitud GET\n",
    "        results = requests.get(url).json()[\"response\"]['groups'][0]['items']\n",
    "        \n",
    "        # regresa solo información relevante de cada sitio cercano\n",
    "        venues_list.append([(\n",
    "            name, \n",
    "            lat, \n",
    "            lng, \n",
    "            v['venue']['name'], \n",
    "            v['venue']['location']['lat'], \n",
    "            v['venue']['location']['lng'],  \n",
    "            v['venue']['categories'][0]['name']) for v in results])\n",
    "\n",
    "    nearby_venues = pd.DataFrame([item for venue_list in venues_list for item in venue_list])\n",
    "    nearby_venues.columns = ['District', \n",
    "                  'District Latitude', \n",
    "                  'District Longitude', \n",
    "                  'Venue', \n",
    "                  'Venue Latitude', \n",
    "                  'Venue Longitude', \n",
    "                  'Venue Category']\n",
    "    \n",
    "    return(nearby_venues)"
   ]
  },
  {
   "cell_type": "code",
   "execution_count": null,
   "id": "18717aa2-4628-4f6a-b900-4a8241e6b4aa",
   "metadata": {},
   "outputs": [],
   "source": [
    "# \n",
    "valencia_venues = getNearbyVenues(names=DF['District'],\n",
    "                                   latitudes=DF['Latitude'],\n",
    "                                   longitudes=DF['Longitude']\n",
    "                                  )"
   ]
  },
  {
   "cell_type": "code",
   "execution_count": null,
   "id": "a70e6334-25df-42b2-80f4-87fecc3e4ccd",
   "metadata": {},
   "outputs": [],
   "source": [
    "print(valencia_venues.shape)\n",
    "valencia_venues.head(10)"
   ]
  },
  {
   "cell_type": "markdown",
   "id": "c2a0dabb-3e37-4fa9-acdc-b82934befed0",
   "metadata": {},
   "source": [
    "To cluster the common venues, I will use K-mean, an unsupervised learning algorithm, starting with 2 k-clusters and using the elbow method to kind the optimal k-cluster, we’ll have the graphic in figure 8. It helps us to corroborate the correct assumed k-cluster.m"
   ]
  },
  {
   "cell_type": "code",
   "execution_count": null,
   "id": "aefb79a0-c8d7-4689-954a-5a8dbe26ef06",
   "metadata": {},
   "outputs": [],
   "source": [
    "valencia_venues.groupby('District').count()"
   ]
  },
  {
   "cell_type": "code",
   "execution_count": null,
   "id": "dec9b994-76f9-4c93-814d-dbfb13951749",
   "metadata": {},
   "outputs": [],
   "source": [
    "print('There are {} uniques categories.'.format(len(valencia_venues['Venue Category'].unique())))"
   ]
  },
  {
   "cell_type": "code",
   "execution_count": null,
   "id": "9b5f292a-41d8-40c4-b2b4-6777a83cd8f7",
   "metadata": {},
   "outputs": [],
   "source": [
    "# codificación para analizar cada Distrito\n",
    "valencia_onehot = pd.get_dummies(valencia_venues[['Venue Category']], prefix=\"\", prefix_sep=\"\")\n",
    "\n",
    "# añadir la columna de District de regreso al dataframe\n",
    "valencia_onehot['District'] = valencia_venues['District'] \n",
    "\n",
    "# mover la columna de barrio a la primer columna\n",
    "fixed_columns = [valencia_onehot.columns[-1]] + list(valencia_onehot.columns[:-1])\n",
    "valencia_onehot = valencia_onehot[fixed_columns]\n",
    "\n",
    "valencia_onehot.head()"
   ]
  },
  {
   "cell_type": "code",
   "execution_count": null,
   "id": "8ecd375b-6c01-42d6-861d-3ba2803379f3",
   "metadata": {},
   "outputs": [],
   "source": [
    "valencia_onehot.shape"
   ]
  },
  {
   "cell_type": "code",
   "execution_count": null,
   "id": "b8fb9d97-fc55-4256-908d-c85a8a51f9c1",
   "metadata": {},
   "outputs": [],
   "source": [
    "valencia_grouped = valencia_onehot.groupby('District').mean().reset_index()\n",
    "valencia_grouped"
   ]
  },
  {
   "cell_type": "code",
   "execution_count": null,
   "id": "234fcb33-c383-4a92-ac4d-d2a61d229883",
   "metadata": {},
   "outputs": [],
   "source": [
    "valencia_grouped.shape"
   ]
  },
  {
   "cell_type": "code",
   "execution_count": null,
   "id": "be7596cb-be95-4e55-acb9-bb3eb3586e77",
   "metadata": {},
   "outputs": [],
   "source": [
    "num_top_venues = 5\n",
    "\n",
    "for hood in valencia_grouped['District']:\n",
    "    print(\"----\"+hood+\"----\")\n",
    "    temp = valencia_grouped[valencia_grouped['District'] == hood].T.reset_index()\n",
    "    temp.columns = ['venue','freq']\n",
    "    temp = temp.iloc[1:]\n",
    "    temp['freq'] = temp['freq'].astype(float)\n",
    "    temp = temp.round({'freq': 2})\n",
    "    print(temp.sort_values('freq', ascending=False).reset_index(drop=True).head(num_top_venues))\n",
    "    print('\\n')"
   ]
  },
  {
   "cell_type": "code",
   "execution_count": null,
   "id": "4aa982c1-bfe0-4b29-a9d3-076a05a1b909",
   "metadata": {},
   "outputs": [],
   "source": [
    "def return_most_common_venues(row, num_top_venues):\n",
    "    row_categories = row.iloc[1:]\n",
    "    row_categories_sorted = row_categories.sort_values(ascending=False)\n",
    "    \n",
    "    return row_categories_sorted.index.values[0:num_top_venues]"
   ]
  },
  {
   "cell_type": "code",
   "execution_count": null,
   "id": "ddeb6547-509b-4c5e-8b22-f68943f281c8",
   "metadata": {},
   "outputs": [],
   "source": [
    "num_top_venues = 10\n",
    "\n",
    "indicators = ['st', 'nd', 'rd']\n",
    "\n",
    "# crear las columnas acorde al numero de sitios populares\n",
    "columns = ['District']\n",
    "for ind in np.arange(num_top_venues):\n",
    "    try:\n",
    "        columns.append('{}{} Most Common Venue'.format(ind+1, indicators[ind]))\n",
    "    except:\n",
    "        columns.append('{}th Most Common Venue'.format(ind+1))\n",
    "\n",
    "# crear un nuevo dataframe\n",
    "District_venues_sorted = pd.DataFrame(columns=columns)\n",
    "District_venues_sorted['District'] = valencia_grouped['District']\n",
    "\n",
    "for ind in np.arange(valencia_grouped.shape[0]):\n",
    "    District_venues_sorted.iloc[ind, 1:] = return_most_common_venues(valencia_grouped.iloc[ind, :], num_top_venues)\n",
    "\n",
    "District_venues_sorted.head(19)"
   ]
  },
  {
   "cell_type": "code",
   "execution_count": null,
   "id": "e1ad4ce8-c11e-492e-8e44-fa7d80753515",
   "metadata": {},
   "outputs": [],
   "source": [
    "#Agrupar por distritos por agrupaciones de 2\n",
    "\n",
    "# establecer el número de agrupaciones\n",
    "kclusters = 2\n",
    "\n",
    "valencia_grouped_clustering = valencia_grouped.drop('District', 1)\n",
    "\n",
    "# ejecutar k-means\n",
    "kmeans = KMeans(n_clusters=kclusters, random_state=0).fit(valencia_grouped_clustering)\n",
    "\n",
    "# revisar las etiquetas de las agrupaciones generadas para cada fila del dataframe\n",
    "kmeans.labels_[0:10] "
   ]
  },
  {
   "cell_type": "code",
   "execution_count": null,
   "id": "83542a62-8acc-4d31-965c-0b3597396853",
   "metadata": {},
   "outputs": [],
   "source": [
    "from scipy.spatial.distance import cdist\n",
    "import matplotlib.pyplot as plt\n",
    "\n",
    "distortions = []\n",
    "K = range(1,10)\n",
    "for k in K:\n",
    "    kmeanModel = KMeans(n_clusters=k, random_state=0).fit(valencia_grouped_clustering)\n",
    "    #kmeanModel.fit(istanbul_grouped_clustering)\n",
    "    distortions.append(sum(np.min(cdist(valencia_grouped_clustering, kmeanModel.cluster_centers_, 'canberra'), axis=1)) / valencia_grouped_clustering.shape[0])\n",
    "\n",
    "#There are different metric distance function for spatial distance. \n",
    "#I choose correlation instaed of euclidean because the canberra function gives me more clear view of elbow break point.\n",
    "\n",
    "# Plot the elbow\n",
    "plt.plot(K, distortions, 'bx-')\n",
    "plt.xlabel('k')\n",
    "plt.ylabel('Distortion')\n",
    "plt.title('The Elbow Method showing the optimal k')\n",
    "plt.show()"
   ]
  },
  {
   "cell_type": "code",
   "execution_count": null,
   "id": "2c2d8e90-b513-40e5-a55d-e9fec2de0eb1",
   "metadata": {},
   "outputs": [],
   "source": [
    "# añadir etiquetas\n",
    "District_venues_sorted.insert(0, 'Cluster Labels', kmeans.labels_)\n",
    "\n",
    "valencia_merged = DF\n",
    "\n",
    "# juntar valencia_grouped con valencia_data \n",
    "valencia_merged = valencia_merged.join(District_venues_sorted.set_index('District'), on='District')\n",
    "\n",
    "valencia_merged.head() # revisar las ultimas columnas"
   ]
  },
  {
   "cell_type": "code",
   "execution_count": null,
   "id": "0bdddd84-8a55-4874-926f-a03ad0a62a0d",
   "metadata": {},
   "outputs": [],
   "source": [
    "count_venue = valencia_merged\n",
    "count_venue = count_venue.drop(['District', 'Latitude', 'Longitude'], axis=1)\n",
    "count_venue = count_venue.groupby(['Cluster Labels','1st Most Common Venue']).size().reset_index(name='Counts')\n",
    "\n",
    "#we can transpose it to plot bar chart\n",
    "cv_cluster = count_venue.pivot(index='Cluster Labels', columns='1st Most Common Venue', values='Counts')\n",
    "cv_cluster = cv_cluster.fillna(0).astype(int).reset_index(drop=True)\n",
    "cv_cluster"
   ]
  },
  {
   "cell_type": "code",
   "execution_count": null,
   "id": "0a7ede60-6464-4eb7-9e20-fd4b407cdccc",
   "metadata": {},
   "outputs": [],
   "source": [
    "#creating a bar chart of \"Number of Venues in Each Cluster\"\n",
    "frame=cv_cluster.plot(kind='bar',figsize=(20,8),width = 0.8)\n",
    "\n",
    "plt.legend(labels=cv_cluster.columns,fontsize= 14)\n",
    "plt.title(\"Number of Venues in Each Cluster\",fontsize= 16)\n",
    "plt.xticks(fontsize=14)\n",
    "plt.xticks(rotation=0)\n",
    "plt.xlabel('Number of Venue', fontsize=14)\n",
    "plt.ylabel('Clusters', fontsize=14)"
   ]
  },
  {
   "cell_type": "code",
   "execution_count": null,
   "id": "340f3a01-6f42-486a-80c3-f236b27e1434",
   "metadata": {},
   "outputs": [],
   "source": [
    "# crear mapa\n",
    "map_clusters = folium.Map(location=[latitude, longitude], zoom_start=11)\n",
    "\n",
    "# establecer el esquema de color para las agrupaciones\n",
    "x = np.arange(kclusters)\n",
    "ys = [i + x + (i*x)**2 for i in range(kclusters)]\n",
    "colors_array = cm.rainbow(np.linspace(0, 1, len(ys)))\n",
    "rainbow = [colors.rgb2hex(i) for i in colors_array]\n",
    "\n",
    "# añadir marcadores al mapa\n",
    "markers_colors = []\n",
    "for lat, lon, poi, cluster in zip(valencia_merged['Latitude'], valencia_merged['Longitude'], valencia_merged['District'], valencia_merged['Cluster Labels']):\n",
    "    label = folium.Popup(str(poi) + ' Cluster ' + str(cluster), parse_html=True)\n",
    "    folium.CircleMarker(\n",
    "        [lat, lon],\n",
    "        radius=5,\n",
    "        popup=label,\n",
    "        color=rainbow[cluster-1],\n",
    "        fill=True,\n",
    "        fill_color=rainbow[cluster-1],\n",
    "        fill_opacity=0.7).add_to(map_clusters)\n",
    "       \n",
    "map_clusters"
   ]
  },
  {
   "cell_type": "code",
   "execution_count": null,
   "id": "ca0367a4-ccb7-4398-b6b2-d0f1184cd0b1",
   "metadata": {},
   "outputs": [],
   "source": [
    "#Examinar agrupaciones"
   ]
  },
  {
   "cell_type": "code",
   "execution_count": null,
   "id": "e6f4d368-f5c9-42aa-99a0-f8cd03483494",
   "metadata": {},
   "outputs": [],
   "source": []
  },
  {
   "cell_type": "code",
   "execution_count": null,
   "id": "5dd05fce-6735-4aef-ace4-ace0e3b99d29",
   "metadata": {},
   "outputs": [],
   "source": [
    "#Agrupacion #1\n",
    "valencia_merged.loc[valencia_merged['Cluster Labels'] == 0, valencia_merged.columns[[0] + list(range(5, valencia_merged.shape[1]))]]"
   ]
  },
  {
   "cell_type": "code",
   "execution_count": null,
   "id": "84c1ac7a-c214-473e-8db4-b9ac64d02b87",
   "metadata": {},
   "outputs": [],
   "source": [
    "#Agrupacion #2\n",
    "valencia_merged.loc[valencia_merged['Cluster Labels'] == 1, valencia_merged.columns[[0] + list(range(5, valencia_merged.shape[1]))]]"
   ]
  },
  {
   "cell_type": "markdown",
   "id": "afa92c23-0b64-4387-b784-a4278a7e1491",
   "metadata": {},
   "source": [
    "## 3.\tResults Section\n",
    "### 3.1 Foursquare to find the most popular venues in Valencian Districts\n",
    "Now we can obtain Table 4, it gives an idea of what is working well per district. A particular visible characteristic is that all the districts less Pobles de l’Oest and l’Olivereta have restaurants as most popular venue in its district.  \n"
   ]
  },
  {
   "cell_type": "code",
   "execution_count": null,
   "id": "84f9bef9-83c6-459b-9047-fcd0a6b47fa5",
   "metadata": {},
   "outputs": [],
   "source": [
    "District_venues_sorted.head(19)"
   ]
  },
  {
   "cell_type": "markdown",
   "id": "c43ce03e-dcd8-480c-8b82-3520b7eab504",
   "metadata": {},
   "source": [
    "## 4.\tDiscussion Section\n",
    "Valencia as I mentioned at the beginning of this report, most economic activity is the service: tourism as well, which include restaurant, bars, plazas, beaches. It can be verifiable in the result plots and tables.  \n",
    "The clustering algorithm used was k-mean, starting with k-cluster 2, and confirmed with the elbow method. \n",
    "The habitants with the greatest economic power use to live in the center districts, where are the historical places, it could be considered some luxor restaurants to take advantages of the lots of people doing tourism and the rich neighbors.\n"
   ]
  },
  {
   "cell_type": "markdown",
   "id": "bef3e14a-5d4d-482a-bf36-41f5503b746f",
   "metadata": {},
   "source": [
    "## 5.\tConclusions\n",
    "Valencia’s most principles existing businesses are the restaurants, bars, cafeterias, plazas. There are a lot of national and international tourist that every year goes to enjoy the city. I recommend adding some qualitative data to future analysis. \n"
   ]
  },
  {
   "cell_type": "markdown",
   "id": "c536ce0c-9739-4df0-819e-576c56056796",
   "metadata": {
    "tags": []
   },
   "source": [
    "## 6.\tReferences\n",
    "\n",
    "Valencia Town Hall. (December de 2020). Obtenido de Ajuntament de Valencia: https://www.valencia.es/es/cas/estadistica/mapa-barrios\n",
    "Enterat. (2021). Enterat. Obtenido de https://www.enterat.com/actualidad/habitantes-valencia.php\n",
    "INE. (2020). Instituto Nacional de Estadística. Obtenido de https://ine.es\n",
    "Wikipedia. (2021). Wikipedia.org. Obtenido de https://es.wikipedia.org/wiki/Valencia\n",
    "Foursquare. (2021). Foursquare. Obtenido de https://foursquare.com\n",
    "Google. (2021). Google maps. Obtenido de https://www.google.com/maps/place/Valencia,+Espa%C3%B1a/\n",
    "Espana, D. d. (2021). Datos de gobierno de Espana. Obtenido de http://mapas.valencia.es/lanzadera/opendata/Distritos/JSON?srsName=EPSG%3A4326\n",
    "\n"
   ]
  },
  {
   "cell_type": "markdown",
   "id": "c0d5b883-e753-4e2d-9e20-914868473a5e",
   "metadata": {},
   "source": [
    "## 7. Apendix"
   ]
  },
  {
   "cell_type": "code",
   "execution_count": null,
   "id": "fa2a37c0-5e53-4f67-acfc-5dc7b16fb56d",
   "metadata": {},
   "outputs": [],
   "source": [
    "df_val.corr()\n"
   ]
  },
  {
   "cell_type": "code",
   "execution_count": null,
   "id": "2cdd748e-6bce-4331-bb11-b264e2fc5adc",
   "metadata": {},
   "outputs": [],
   "source": [
    "sns.regplot(x=\"Population\", y=\"Foreigns\", data=df_val)"
   ]
  },
  {
   "cell_type": "code",
   "execution_count": null,
   "id": "76f0af22-92d1-47bc-9455-02ada92d8594",
   "metadata": {},
   "outputs": [],
   "source": [
    "sns.regplot(x=\"Women population\", y=\"Tourism \", data=df_val)"
   ]
  },
  {
   "cell_type": "code",
   "execution_count": null,
   "id": "1f4bd790-ea16-449c-8ae7-b1c191fb9cab",
   "metadata": {},
   "outputs": [],
   "source": [
    "by_age=df_val.sort_values('Age 20-39', ascending=False)\n",
    "\n",
    "g4 = sns.lineplot(x='District', y='Age 0-19', data=by_age, color='yellow')\n",
    "g4 = sns.lineplot(x='District', y='Age 20-39', data=by_age, color='orange')\n",
    "g4 = sns.lineplot(x='District', y='Age 40-59', data=by_age, color='red')\n",
    "g4 = sns.lineplot(x='District', y='Age 60 greater', data=by_age, color='brown')\n",
    "\n",
    "g4.set_xticklabels(g.get_xticklabels(), rotation=90)\n",
    "sns.set(rc = {'figure.figsize':(10,6)})\n",
    "g4.set_title('Age of habitants in Valencian Districts')\n",
    "g4.set(xlabel='Districts', ylabel='Age')\n",
    "g4.legend(title='Vehicle type', loc='upper left', labels=['Age 0-19', 'Age 20-39', 'Age 40-59', 'Age 60 greater'])\n"
   ]
  },
  {
   "cell_type": "markdown",
   "id": "89c02c16-2ced-412f-941c-5945c4fcaaa9",
   "metadata": {},
   "source": [
    "July 20, 2021 \\\n",
    "By Luis Enrique Palma \\\n",
    "https://www.linkedin.com/in/luisenriquepalma"
   ]
  }
 ],
 "metadata": {
  "kernelspec": {
   "display_name": "Python",
   "language": "python",
   "name": "conda-env-python-py"
  },
  "language_info": {
   "codemirror_mode": {
    "name": "ipython",
    "version": 3
   },
   "file_extension": ".py",
   "mimetype": "text/x-python",
   "name": "python",
   "nbconvert_exporter": "python",
   "pygments_lexer": "ipython3",
   "version": "3.6.13"
  }
 },
 "nbformat": 4,
 "nbformat_minor": 5
}
